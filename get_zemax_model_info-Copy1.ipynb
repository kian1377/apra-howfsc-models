{
 "cells": [
  {
   "cell_type": "code",
   "execution_count": 1,
   "id": "1711e9cc",
   "metadata": {},
   "outputs": [],
   "source": [
    "import numpy as np\n",
    "\n",
    "from pathlib import Path\n",
    "from IPython.display import clear_output, display\n",
    "import warnings\n",
    "warnings.filterwarnings(\"ignore\")\n",
    "\n",
    "from imshows import imshow1, imshow2, imshow3\n"
   ]
  },
  {
   "cell_type": "code",
   "execution_count": 3,
   "id": "fa6a54f2",
   "metadata": {},
   "outputs": [
    {
     "name": "stdout",
     "output_type": "stream",
     "text": [
      "Found OpticStudio at:   %sc:\\program files\\ansys zemax opticstudio 2023 r1.00\n",
      "Connected to OpticStudio\n",
      "Serial #:  A1153528\n"
     ]
    }
   ],
   "source": [
    "import clr, os, winreg\n",
    "from itertools import islice\n",
    "\n",
    "# This boilerplate requires the 'pythonnet' module.\n",
    "# The following instructions are for installing the 'pythonnet' module via pip:\n",
    "#    1. Ensure you are running Python 3.4, 3.5, 3.6, or 3.7. PythonNET does not work with Python 3.8 yet.\n",
    "#    2. Install 'pythonnet' from pip via a command prompt (type 'cmd' from the start menu or press Windows + R and type 'cmd' then enter)\n",
    "#\n",
    "#        python -m pip install pythonnet\n",
    "\n",
    "# determine the Zemax working directory\n",
    "aKey = winreg.OpenKey(winreg.ConnectRegistry(None, winreg.HKEY_CURRENT_USER), r\"Software\\Zemax\", 0, winreg.KEY_READ)\n",
    "zemaxData = winreg.QueryValueEx(aKey, 'ZemaxRoot')\n",
    "NetHelper = os.path.join(os.sep, zemaxData[0], r'ZOS-API\\Libraries\\ZOSAPI_NetHelper.dll')\n",
    "winreg.CloseKey(aKey)\n",
    "\n",
    "# add the NetHelper DLL for locating the OpticStudio install folder\n",
    "clr.AddReference(NetHelper)\n",
    "import ZOSAPI_NetHelper\n",
    "\n",
    "pathToInstall = ''\n",
    "# uncomment the following line to use a specific instance of the ZOS-API assemblies\n",
    "#pathToInstall = r'C:\\C:\\Program Files\\Zemax OpticStudio'\n",
    "\n",
    "# connect to OpticStudio\n",
    "success = ZOSAPI_NetHelper.ZOSAPI_Initializer.Initialize(pathToInstall);\n",
    "\n",
    "zemaxDir = ''\n",
    "if success:\n",
    "    zemaxDir = ZOSAPI_NetHelper.ZOSAPI_Initializer.GetZemaxDirectory();\n",
    "    print('Found OpticStudio at:   %s' + zemaxDir);\n",
    "else:\n",
    "    raise Exception('Cannot find OpticStudio')\n",
    "\n",
    "# load the ZOS-API assemblies\n",
    "clr.AddReference(os.path.join(os.sep, zemaxDir, r'ZOSAPI.dll'))\n",
    "clr.AddReference(os.path.join(os.sep, zemaxDir, r'ZOSAPI_Interfaces.dll'))\n",
    "import ZOSAPI\n",
    "\n",
    "TheConnection = ZOSAPI.ZOSAPI_Connection()\n",
    "if TheConnection is None:\n",
    "    raise Exception(\"Unable to intialize NET connection to ZOSAPI\")\n",
    "\n",
    "TheApplication = TheConnection.ConnectAsExtension(0)\n",
    "if TheApplication is None:\n",
    "    raise Exception(\"Unable to acquire ZOSAPI application\")\n",
    "\n",
    "if TheApplication.IsValidLicenseForAPI == False:\n",
    "    raise Exception(\"License is not valid for ZOSAPI use.  Make sure you have enabled 'Programming > Interactive Extension' from the OpticStudio GUI.\")\n",
    "\n",
    "TheSystem = TheApplication.PrimarySystem\n",
    "if TheSystem is None:\n",
    "    raise Exception(\"Unable to acquire Primary system\")\n",
    "\n",
    "def reshape(data, x, y, transpose = False):\n",
    "    \"\"\"Converts a System.Double[,] to a 2D list for plotting or post processing\n",
    "    \n",
    "    Parameters\n",
    "    ----------\n",
    "    data      : System.Double[,] data directly from ZOS-API \n",
    "    x         : x width of new 2D list [use var.GetLength(0) for dimension]\n",
    "    y         : y width of new 2D list [use var.GetLength(1) for dimension]\n",
    "    transpose : transposes data; needed for some multi-dimensional line series data\n",
    "    \n",
    "    Returns\n",
    "    -------\n",
    "    res       : 2D list; can be directly used with Matplotlib or converted to\n",
    "                a numpy array using numpy.asarray(res)\n",
    "    \"\"\"\n",
    "    if type(data) is not list:\n",
    "        data = list(data)\n",
    "    var_lst = [y] * x;\n",
    "    it = iter(data)\n",
    "    res = [list(islice(it, i)) for i in var_lst]\n",
    "    if transpose:\n",
    "        return self.transpose(res);\n",
    "    return res\n",
    "    \n",
    "def transpose(data):\n",
    "    \"\"\"Transposes a 2D list (Python3.x or greater).  \n",
    "    \n",
    "    Useful for converting mutli-dimensional line series (i.e. FFT PSF)\n",
    "    \n",
    "    Parameters\n",
    "    ----------\n",
    "    data      : Python native list (if using System.Data[,] object reshape first)    \n",
    "    \n",
    "    Returns\n",
    "    -------\n",
    "    res       : transposed 2D list\n",
    "    \"\"\"\n",
    "    if type(data) is not list:\n",
    "        data = list(data)\n",
    "    return list(map(list, zip(*data)))\n",
    "\n",
    "print('Connected to OpticStudio')\n",
    "\n",
    "# The connection should now be ready to use.  For example:\n",
    "print('Serial #: ', TheApplication.SerialCode)\n",
    "\n"
   ]
  },
  {
   "cell_type": "code",
   "execution_count": 4,
   "id": "09073abb",
   "metadata": {},
   "outputs": [
    {
     "data": {
      "text/plain": [
       "WindowsPath('C:/Users/Kian/Projects/apra-howfsc-fpgas/zemax_models/OFFAXIS_TMA.zos')"
      ]
     },
     "metadata": {},
     "output_type": "display_data"
    },
    {
     "data": {
      "text/plain": [
       "True"
      ]
     },
     "execution_count": 4,
     "metadata": {},
     "output_type": "execute_result"
    }
   ],
   "source": [
    "zos_path = Path('C:/Users/Kian/Projects/apra-howfsc-fpgas/zemax_models/OFFAXIS_TMA.zos')\n",
    "display(zos_path)\n",
    "\n",
    "TheSystem.LoadFile(str(zos_path),False)"
   ]
  },
  {
   "cell_type": "code",
   "execution_count": 27,
   "id": "9d758904",
   "metadata": {},
   "outputs": [
    {
     "data": {
      "text/plain": [
       "['__call__',\n",
       " '__class__',\n",
       " '__delattr__',\n",
       " '__dir__',\n",
       " '__doc__',\n",
       " '__eq__',\n",
       " '__format__',\n",
       " '__ge__',\n",
       " '__getattribute__',\n",
       " '__getitem__',\n",
       " '__gt__',\n",
       " '__hash__',\n",
       " '__init__',\n",
       " '__init_subclass__',\n",
       " '__le__',\n",
       " '__lt__',\n",
       " '__module__',\n",
       " '__ne__',\n",
       " '__new__',\n",
       " '__reduce__',\n",
       " '__reduce_ex__',\n",
       " '__repr__',\n",
       " '__setattr__',\n",
       " '__sizeof__',\n",
       " '__str__',\n",
       " '__subclasshook__']"
      ]
     },
     "execution_count": 27,
     "metadata": {},
     "output_type": "execute_result"
    }
   ],
   "source": [
    "dir(WFMapSettings.ModifySettings)"
   ]
  },
  {
   "cell_type": "code",
   "execution_count": 17,
   "id": "894bd157",
   "metadata": {},
   "outputs": [],
   "source": [
    "# surfaces we want the ray data at are 3, 4, 6, and 8"
   ]
  },
  {
   "cell_type": "code",
   "execution_count": 16,
   "id": "afa276aa",
   "metadata": {},
   "outputs": [
    {
     "data": {
      "text/plain": [
       "244.76189152211376"
      ]
     },
     "execution_count": 16,
     "metadata": {},
     "output_type": "execute_result"
    }
   ],
   "source": [
    "MFE = TheSystem.MFE\n",
    "MFE.GetOperandValue(ZOSAPI.Editors.MFE.MeritOperandType.REAY, 6d, 1, 0, 0, 0, 0.7, 0, 0)"
   ]
  }
 ],
 "metadata": {
  "kernelspec": {
   "display_name": "Python 3 (ipykernel)",
   "language": "python",
   "name": "python3"
  },
  "language_info": {
   "codemirror_mode": {
    "name": "ipython",
    "version": 3
   },
   "file_extension": ".py",
   "mimetype": "text/x-python",
   "name": "python",
   "nbconvert_exporter": "python",
   "pygments_lexer": "ipython3",
   "version": "3.8.16"
  }
 },
 "nbformat": 4,
 "nbformat_minor": 5
}
