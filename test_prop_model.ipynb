{
 "cells": [
  {
   "cell_type": "code",
   "execution_count": 4,
   "id": "f15d9bbb",
   "metadata": {},
   "outputs": [
    {
     "name": "stdout",
     "output_type": "stream",
     "text": [
      "INFO:numexpr.utils:Note: NumExpr detected 24 cores but \"NUMEXPR_MAX_THREADS\" not set, so enforcing safe limit of 8.\n",
      "INFO:numexpr.utils:NumExpr defaulting to 8 threads.\n",
      "Could not import scoobpy.\n",
      "Could not find magpyx\n",
      "scoobpy not installed: testbed interface unavailable.\n"
     ]
    }
   ],
   "source": [
    "import numpy as np\n",
    "import cupy as cp\n",
    "import astropy.units as u\n",
    "from astropy.io import fits\n",
    "from matplotlib.patches import Rectangle, Circle\n",
    "from pathlib import Path\n",
    "from IPython.display import clear_output\n",
    "from importlib import reload\n",
    "\n",
    "import logging, sys\n",
    "poppy_log = logging.getLogger('poppy')\n",
    "poppy_log.setLevel('INFO')\n",
    "logging.basicConfig(stream=sys.stdout, level=logging.INFO)\n",
    "poppy_log.disabled = True\n",
    "\n",
    "import warnings\n",
    "warnings.filterwarnings(\"ignore\")\n",
    "\n",
    "from prop_models import coro"
   ]
  }
 ],
 "metadata": {
  "kernelspec": {
   "display_name": "Python 3 (ipykernel)",
   "language": "python",
   "name": "python3"
  },
  "language_info": {
   "codemirror_mode": {
    "name": "ipython",
    "version": 3
   },
   "file_extension": ".py",
   "mimetype": "text/x-python",
   "name": "python",
   "nbconvert_exporter": "python",
   "pygments_lexer": "ipython3",
   "version": "3.9.6"
  }
 },
 "nbformat": 4,
 "nbformat_minor": 5
}
