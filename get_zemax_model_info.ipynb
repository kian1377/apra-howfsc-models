{
 "cells": [
  {
   "cell_type": "code",
   "execution_count": 3,
   "id": "1711e9cc",
   "metadata": {},
   "outputs": [],
   "source": [
    "import numpy as np\n",
    "\n",
    "from pathlib import Path\n",
    "from IPython.display import clear_output, display\n",
    "import warnings\n",
    "warnings.filterwarnings(\"ignore\")\n",
    "\n",
    "from imshows import imshow1, imshow2, imshow3\n"
   ]
  },
  {
   "attachments": {
    "image.png": {
     "image/png": "[encoded data removed]"
    }
   },
   "cell_type": "markdown",
   "id": "da676a4f",
   "metadata": {},
   "source": [
    "![image.png](attachment:image.png)"
   ]
  },
  {
   "cell_type": "code",
   "execution_count": 8,
   "id": "62723fb7",
   "metadata": {},
   "outputs": [
    {
     "data": {
      "text/plain": [
       "WindowsPath('C:/Users/Kian/Projects/apra-howfsc-fpgas/zemax_models/OFFAXIS_TMA.zos')"
      ]
     },
     "metadata": {},
     "output_type": "display_data"
    },
    {
     "name": "stdout",
     "output_type": "stream",
     "text": [
      "Connected to OpticStudio at: c:\\program files\\ansys zemax opticstudio 2023 r1.00\n"
     ]
    },
    {
     "ename": "RemotingException",
     "evalue": "Requested Service not found\r\n\r\nServer stack trace: \r\n   at System.Runtime.Remoting.Channels.BinaryServerFormatterSink.ProcessMessage(IServerChannelSinkStack sinkStack, IMessage requestMsg, ITransportHeaders requestHeaders, Stream requestStream, IMessage& responseMsg, ITransportHeaders& responseHeaders, Stream& responseStream)\r\n\r\nException rethrown at [0]: \r\n   at System.Runtime.Remoting.Proxies.RealProxy.HandleReturnMessage(IMessage reqMsg, IMessage retMsg)\r\n   at System.Runtime.Remoting.Proxies.RealProxy.PrivateInvoke(MessageData& msgData, Int32 type)\r\n   at ZOSAPI.IOpticalSystem.LoadFile(String LensFile, Boolean saveIfNeeded)",
     "output_type": "error",
     "traceback": [
      "\u001b[1;31m---------------------------------------------------------------------------\u001b[0m",
      "\u001b[1;31mRemotingException\u001b[0m                         Traceback (most recent call last)",
      "Cell \u001b[1;32mIn[8], line 11\u001b[0m\n\u001b[0;32m      9\u001b[0m ZOSAPI \u001b[38;5;241m=\u001b[39m zos\u001b[38;5;241m.\u001b[39mZOSAPI\n\u001b[0;32m     10\u001b[0m TheSystem \u001b[38;5;241m=\u001b[39m zos\u001b[38;5;241m.\u001b[39mTheSystem\n\u001b[1;32m---> 11\u001b[0m \u001b[43mTheSystem\u001b[49m\u001b[38;5;241;43m.\u001b[39;49m\u001b[43mLoadFile\u001b[49m\u001b[43m(\u001b[49m\u001b[38;5;28;43mstr\u001b[39;49m\u001b[43m(\u001b[49m\u001b[43mzos_path\u001b[49m\u001b[43m)\u001b[49m\u001b[43m,\u001b[49m\u001b[38;5;28;43;01mFalse\u001b[39;49;00m\u001b[43m)\u001b[49m\n\u001b[0;32m     13\u001b[0m wave \u001b[38;5;241m=\u001b[39m TheSystem\u001b[38;5;241m.\u001b[39mSystemData\u001b[38;5;241m.\u001b[39mWavelengths\u001b[38;5;241m.\u001b[39mGetWavelength(\u001b[38;5;241m1\u001b[39m)\u001b[38;5;241m.\u001b[39mWavelength \u001b[38;5;241m*\u001b[39m \u001b[38;5;241m1e-6\u001b[39m\n\u001b[0;32m     14\u001b[0m display(wave)\n",
      "\u001b[1;31mRemotingException\u001b[0m: Requested Service not found\r\n\r\nServer stack trace: \r\n   at System.Runtime.Remoting.Channels.BinaryServerFormatterSink.ProcessMessage(IServerChannelSinkStack sinkStack, IMessage requestMsg, ITransportHeaders requestHeaders, Stream requestStream, IMessage& responseMsg, ITransportHeaders& responseHeaders, Stream& responseStream)\r\n\r\nException rethrown at [0]: \r\n   at System.Runtime.Remoting.Proxies.RealProxy.HandleReturnMessage(IMessage reqMsg, IMessage retMsg)\r\n   at System.Runtime.Remoting.Proxies.RealProxy.PrivateInvoke(MessageData& msgData, Int32 type)\r\n   at ZOSAPI.IOpticalSystem.LoadFile(String LensFile, Boolean saveIfNeeded)"
     ]
    }
   ],
   "source": [
    "import zosapi\n",
    "from System import Enum,Int32,Double,Array\n",
    "from pathlib import Path\n",
    "\n",
    "zos_path = Path('C:/Users/Kian/Projects/apra-howfsc-fpgas/zemax_models/OFFAXIS_TMA.zos')\n",
    "display(zos_path)\n",
    "\n",
    "zos = zosapi.App()\n",
    "ZOSAPI = zos.ZOSAPI\n",
    "TheSystem = zos.TheSystem\n",
    "TheSystem.LoadFile(str(zos_path),False)\n",
    "\n",
    "wave = TheSystem.SystemData.Wavelengths.GetWavelength(1).Wavelength * 1e-6\n",
    "display(wave)"
   ]
  },
  {
   "cell_type": "code",
   "execution_count": 7,
   "id": "6f02473a",
   "metadata": {},
   "outputs": [
    {
     "data": {
      "text/plain": [
       "False"
      ]
     },
     "execution_count": 7,
     "metadata": {},
     "output_type": "execute_result"
    }
   ],
   "source": [
    "TheSystem.Close(True)"
   ]
  },
  {
   "cell_type": "code",
   "execution_count": 29,
   "id": "c481bbc4",
   "metadata": {},
   "outputs": [
    {
     "ename": "TypeError",
     "evalue": "No method matches given arguments for IOpticalSystem.LoadFile: ()",
     "output_type": "error",
     "traceback": [
      "\u001b[1;31m---------------------------------------------------------------------------\u001b[0m",
      "\u001b[1;31mTypeError\u001b[0m                                 Traceback (most recent call last)",
      "Input \u001b[1;32mIn [29]\u001b[0m, in \u001b[0;36m<cell line: 1>\u001b[1;34m()\u001b[0m\n\u001b[1;32m----> 1\u001b[0m \u001b[38;5;28mdir\u001b[39m(\u001b[43mTheSystem\u001b[49m\u001b[38;5;241;43m.\u001b[39;49m\u001b[43mLoadFile\u001b[49m\u001b[43m(\u001b[49m\u001b[43m)\u001b[49m)\n",
      "\u001b[1;31mTypeError\u001b[0m: No method matches given arguments for IOpticalSystem.LoadFile: ()"
     ]
    }
   ],
   "source": [
    "dir(TheSystem.Close()"
   ]
  },
  {
   "cell_type": "code",
   "execution_count": 31,
   "id": "296eb0c3",
   "metadata": {},
   "outputs": [
    {
     "data": {
      "text/plain": [
       "<ZOSAPI.Analysis.IA_ object at 0x00000253B8A3B240>"
      ]
     },
     "execution_count": 31,
     "metadata": {},
     "output_type": "execute_result"
    }
   ],
   "source": [
    "WFMap"
   ]
  },
  {
   "cell_type": "code",
   "execution_count": 3,
   "id": "661ae54b",
   "metadata": {},
   "outputs": [],
   "source": [
    "WFMap = TheSystem.Analyses.New_Analysis(ZOSAPI.Analysis.AnalysisIDM.WavefrontMap)\n",
    "WFMapSettings = WFMap.GetSettings()\n",
    "WFMapSettings.Sampling = ZOSAPI.Analysis.SampleSizes.S_1024x1024\n",
    "# WFMapSettings.Field.SetFieldNumber(1)\n",
    "\n",
    "WFMap.ApplyAndWaitForCompletion() # make sure the settings have been applied\n",
    "\n",
    "WFMapResults = WFMap.GetResults() # get results"
   ]
  },
  {
   "cell_type": "code",
   "execution_count": 33,
   "id": "9cd5efe9",
   "metadata": {},
   "outputs": [
    {
     "data": {
      "text/plain": [
       "['__abs__',\n",
       " '__add__',\n",
       " '__and__',\n",
       " '__bool__',\n",
       " '__ceil__',\n",
       " '__class__',\n",
       " '__delattr__',\n",
       " '__dir__',\n",
       " '__divmod__',\n",
       " '__doc__',\n",
       " '__eq__',\n",
       " '__float__',\n",
       " '__floor__',\n",
       " '__floordiv__',\n",
       " '__format__',\n",
       " '__ge__',\n",
       " '__getattribute__',\n",
       " '__getnewargs__',\n",
       " '__gt__',\n",
       " '__hash__',\n",
       " '__index__',\n",
       " '__init__',\n",
       " '__init_subclass__',\n",
       " '__int__',\n",
       " '__invert__',\n",
       " '__le__',\n",
       " '__lshift__',\n",
       " '__lt__',\n",
       " '__mod__',\n",
       " '__mul__',\n",
       " '__ne__',\n",
       " '__neg__',\n",
       " '__new__',\n",
       " '__or__',\n",
       " '__pos__',\n",
       " '__pow__',\n",
       " '__radd__',\n",
       " '__rand__',\n",
       " '__rdivmod__',\n",
       " '__reduce__',\n",
       " '__reduce_ex__',\n",
       " '__repr__',\n",
       " '__rfloordiv__',\n",
       " '__rlshift__',\n",
       " '__rmod__',\n",
       " '__rmul__',\n",
       " '__ror__',\n",
       " '__round__',\n",
       " '__rpow__',\n",
       " '__rrshift__',\n",
       " '__rshift__',\n",
       " '__rsub__',\n",
       " '__rtruediv__',\n",
       " '__rxor__',\n",
       " '__setattr__',\n",
       " '__sizeof__',\n",
       " '__str__',\n",
       " '__sub__',\n",
       " '__subclasshook__',\n",
       " '__truediv__',\n",
       " '__trunc__',\n",
       " '__xor__',\n",
       " 'as_integer_ratio',\n",
       " 'bit_length',\n",
       " 'conjugate',\n",
       " 'denominator',\n",
       " 'from_bytes',\n",
       " 'imag',\n",
       " 'numerator',\n",
       " 'real',\n",
       " 'to_bytes']"
      ]
     },
     "execution_count": 33,
     "metadata": {},
     "output_type": "execute_result"
    }
   ],
   "source": [
    "dir(WFMapResults.GetTextFile('wfe.txt'))"
   ]
  },
  {
   "cell_type": "code",
   "execution_count": null,
   "id": "894bd157",
   "metadata": {},
   "outputs": [],
   "source": []
  },
  {
   "cell_type": "code",
   "execution_count": null,
   "id": "afa276aa",
   "metadata": {},
   "outputs": [],
   "source": [
    "# MFE = TheSystem.MFE\n",
    "# MFE.GetOperandValue(ZOSAPI.Editors.MFE.MeritOperandType.REAX)\n"
   ]
  }
 ],
 "metadata": {
  "kernelspec": {
   "display_name": "Python 3 (ipykernel)",
   "language": "python",
   "name": "python3"
  },
  "language_info": {
   "codemirror_mode": {
    "name": "ipython",
    "version": 3
   },
   "file_extension": ".py",
   "mimetype": "text/x-python",
   "name": "python",
   "nbconvert_exporter": "python",
   "pygments_lexer": "ipython3",
   "version": "3.8.16"
  }
 },
 "nbformat": 4,
 "nbformat_minor": 5
}
