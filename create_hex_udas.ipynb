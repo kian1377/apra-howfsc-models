{
 "cells": [
  {
   "cell_type": "code",
   "execution_count": 1,
   "id": "5ae67c9d",
   "metadata": {
    "scrolled": true
   },
   "outputs": [
    {
     "data": {
      "text/plain": [
       "['hex01.uda',\n",
       " 'hex02.uda',\n",
       " 'hex03.uda',\n",
       " 'hex04.uda',\n",
       " 'hex05.uda',\n",
       " 'hex06.uda',\n",
       " 'hex07.uda',\n",
       " 'hex08.uda',\n",
       " 'hex09.uda',\n",
       " 'hex10.uda',\n",
       " 'hex11.uda',\n",
       " 'hex12.uda',\n",
       " 'hex13.uda',\n",
       " 'hex14.uda',\n",
       " 'hex15.uda',\n",
       " 'hex16.uda',\n",
       " 'hex17.uda',\n",
       " 'hex18.uda',\n",
       " 'hex19.uda',\n",
       " 'hex20.uda',\n",
       " 'hex21.uda',\n",
       " 'hex22.uda',\n",
       " 'hex23.uda',\n",
       " 'hex24.uda',\n",
       " 'hex25.uda',\n",
       " 'hex26.uda',\n",
       " 'hex27.uda',\n",
       " 'hex28.uda',\n",
       " 'hex29.uda',\n",
       " 'hex30.uda',\n",
       " 'hex31.uda',\n",
       " 'hex32.uda',\n",
       " 'hex33.uda',\n",
       " 'hex34.uda',\n",
       " 'hex35.uda',\n",
       " 'hex36.uda',\n",
       " 'hex37.uda',\n",
       " 'hex38.uda',\n",
       " 'hex39.uda',\n",
       " 'hex40.uda',\n",
       " 'hex41.uda',\n",
       " 'hex42.uda',\n",
       " 'hex43.uda',\n",
       " 'hex44.uda',\n",
       " 'hex45.uda',\n",
       " 'hex46.uda',\n",
       " 'hex47.uda',\n",
       " 'hex48.uda',\n",
       " 'hex49.uda',\n",
       " 'hex50.uda',\n",
       " 'hex51.uda',\n",
       " 'hex52.uda',\n",
       " 'hex53.uda',\n",
       " 'hex54.uda',\n",
       " 'hex55.uda']"
      ]
     },
     "execution_count": 1,
     "metadata": {},
     "output_type": "execute_result"
    }
   ],
   "source": [
    "import numpy as np\n",
    "import shutil\n",
    "from pathlib import Path\n",
    "uda_path = Path('C:/Users/Kian/Documents/Zemax/Objects/Apertures')\n",
    "\n",
    "uda0 = 'hex00.uda'\n",
    "\n",
    "nhexs = 55\n",
    "\n",
    "uda_names = ['hex{:02d}.uda'.format(n) for n in range(1,nhexs+1)]\n",
    "uda_names"
   ]
  },
  {
   "cell_type": "code",
   "execution_count": 19,
   "id": "a8cbd97b",
   "metadata": {},
   "outputs": [
    {
     "name": "stdout",
     "output_type": "stream",
     "text": [
      "961 551.3695070760925\n"
     ]
    },
    {
     "data": {
      "text/plain": [
       "(12,)"
      ]
     },
     "execution_count": 19,
     "metadata": {},
     "output_type": "execute_result"
    }
   ],
   "source": [
    "l = 955\n",
    "s = 6\n",
    "d = l+s\n",
    "r = l/2/np.cos(np.pi/6)\n",
    "print(d, r)\n",
    "\n",
    "phis1 = np.arange(np.pi/6,2*np.pi+0.01, np.pi/3)\n",
    "phis2 = np.arange(0,2*np.pi-np.pi/6+0.01, np.pi/6)\n",
    "phis = np.concatenate([phis1,phis2])\n",
    "phis2.shape"
   ]
  },
  {
   "cell_type": "code",
   "execution_count": 18,
   "id": "e41c0a55",
   "metadata": {},
   "outputs": [
    {
     "name": "stdout",
     "output_type": "stream",
     "text": [
      "961 551.3695070760925 5.196152422706632\n"
     ]
    }
   ],
   "source": [
    "l = 955\n",
    "s = 6\n",
    "d = l+s\n",
    "r = l/2/np.cos(np.pi/6)\n",
    "\n",
    "sp = s*np.cos(np.pi/6)\n",
    "print(d, r, sp)"
   ]
  },
  {
   "attachments": {
    "image.png": {
     "image/png": "[encoded data removed]"
    }
   },
   "cell_type": "markdown",
   "id": "a9c03a44",
   "metadata": {},
   "source": [
    "![image.png](attachment:image.png)"
   ]
  },
  {
   "cell_type": "code",
   "execution_count": 20,
   "id": "b8690776",
   "metadata": {},
   "outputs": [
    {
     "name": "stdout",
     "output_type": "stream",
     "text": [
      "hex01.uda ['POL -3329.00 961.00 551.37 6 0']\n",
      "hex02.uda ['POL -3329.00 0.00 551.37 6 0']\n",
      "hex03.uda ['POL -3329.00 -961.00 551.37 6 0']\n",
      "hex04.uda ['POL -2496.75 2402.50 551.37 6 0']\n",
      "hex05.uda ['POL -2496.75 1441.50 551.37 6 0']\n",
      "hex06.uda ['POL -2496.75 480.50 551.37 6 0']\n",
      "hex07.uda ['POL -2496.75 -480.50 551.37 6 0']\n",
      "hex08.uda ['POL -2496.75 -1441.50 551.37 6 0']\n",
      "hex09.uda ['POL -2496.75 -2402.50 551.37 6 0']\n",
      "hex10.uda ['POL -1664.50 2883.00 551.37 6 0']\n",
      "hex11.uda ['POL -1664.50 1922.00 551.37 6 0']\n",
      "hex12.uda ['POL -1664.50 961.00 551.37 6 0']\n",
      "hex13.uda ['POL -1664.50 0.00 551.37 6 0']\n",
      "hex14.uda ['POL -1664.50 -961.00 551.37 6 0']\n",
      "hex15.uda ['POL -1664.50 -1922.00 551.37 6 0']\n",
      "hex16.uda ['POL -1664.50 -2883.00 551.37 6 0']\n",
      "hex17.uda ['POL -832.25 3363.50 551.37 6 0']\n",
      "hex18.uda ['POL -832.25 2402.50 551.37 6 0']\n",
      "hex19.uda ['POL -832.25 1441.50 551.37 6 0']\n",
      "hex20.uda ['POL -832.25 480.50 551.37 6 0']\n",
      "hex21.uda ['POL -832.25 -480.50 551.37 6 0']\n",
      "hex22.uda ['POL -832.25 -1441.50 551.37 6 0']\n",
      "hex23.uda ['POL -832.25 -2402.50 551.37 6 0']\n",
      "hex24.uda ['POL -832.25 -3363.50 551.37 6 0']\n",
      "hex25.uda ['POL 0.00 2883.00 551.37 6 0']\n",
      "hex26.uda ['POL 0.00 1922.00 551.37 6 0']\n",
      "hex27.uda ['POL 0.00 961.00 551.37 6 0']\n",
      "hex28.uda ['POL 0.00 0.00 551.37 6 0']\n",
      "hex29.uda ['POL 0.00 -961.00 551.37 6 0']\n",
      "hex30.uda ['POL 0.00 -1922.00 551.37 6 0']\n",
      "hex31.uda ['POL 0.00 -2883.00 551.37 6 0']\n",
      "hex32.uda ['POL 832.25 3363.50 551.37 6 0']\n",
      "hex33.uda ['POL 832.25 2402.50 551.37 6 0']\n",
      "hex34.uda ['POL 832.25 1441.50 551.37 6 0']\n",
      "hex35.uda ['POL 832.25 480.50 551.37 6 0']\n",
      "hex36.uda ['POL 832.25 -480.50 551.37 6 0']\n",
      "hex37.uda ['POL 832.25 -1441.50 551.37 6 0']\n",
      "hex38.uda ['POL 832.25 -2402.50 551.37 6 0']\n",
      "hex39.uda ['POL 832.25 -3363.50 551.37 6 0']\n",
      "hex40.uda ['POL 1664.50 2883.00 551.37 6 0']\n",
      "hex41.uda ['POL 1664.50 1922.00 551.37 6 0']\n",
      "hex42.uda ['POL 1664.50 961.00 551.37 6 0']\n",
      "hex43.uda ['POL 1664.50 0.00 551.37 6 0']\n",
      "hex44.uda ['POL 1664.50 -961.00 551.37 6 0']\n",
      "hex45.uda ['POL 1664.50 -1922.00 551.37 6 0']\n",
      "hex46.uda ['POL 1664.50 -2883.00 551.37 6 0']\n",
      "hex47.uda ['POL 2496.75 2402.50 551.37 6 0']\n",
      "hex48.uda ['POL 2496.75 1441.50 551.37 6 0']\n",
      "hex49.uda ['POL 2496.75 480.50 551.37 6 0']\n",
      "hex50.uda ['POL 2496.75 -480.50 551.37 6 0']\n",
      "hex51.uda ['POL 2496.75 -1441.50 551.37 6 0']\n",
      "hex52.uda ['POL 2496.75 -2402.50 551.37 6 0']\n",
      "hex53.uda ['POL 3329.00 961.00 551.37 6 0']\n",
      "hex54.uda ['POL 3329.00 0.00 551.37 6 0']\n",
      "hex55.uda ['POL 3329.00 -961.00 551.37 6 0']\n"
     ]
    }
   ],
   "source": [
    "for i,uda_fname in enumerate(uda_names):\n",
    "    shutil.copyfile(str(uda_path/uda0),str(uda_path/uda_fname))\n",
    "    \n",
    "#     if i<6:\n",
    "#         cx = d*np.cos(phis[i])\n",
    "#         cy = d*np.sin(phis[i])\n",
    "#     elif i<18 and i%2==0:\n",
    "#         cx = 3*r*np.cos(phis[i])\n",
    "#         cy = 3*r*np.sin(phis[i])\n",
    "#     elif i<18 and i%2==1:\n",
    "#         cx = 2*l*np.cos(phis[i])\n",
    "#         cy = 2*l*np.sin(phis[i])   \n",
    "        \n",
    "    if i<3:\n",
    "        cx = -(6*r + 4*sp)\n",
    "        cy = -(i-1)*d\n",
    "    elif i<9:\n",
    "        cx = -(9*r/2 + 3*sp)\n",
    "        cy = -(i-5)*d + d/2\n",
    "    elif i<16:\n",
    "        cx = -(3*r + 2*sp)\n",
    "        cy = -(i-12)*d\n",
    "    elif i<24:\n",
    "        cx = -(3*r/2 + sp)\n",
    "        cy = -(i-19)*d + d/2\n",
    "    elif i<31:\n",
    "        cx = 0\n",
    "        cy = -(i-27)*d\n",
    "    elif i<39:\n",
    "        cx = 3*r/2 + sp\n",
    "        cy = -(i-34)*d + d/2\n",
    "    elif i<46:\n",
    "        cx = 3*r + 2*sp\n",
    "        cy = -(i-42)*d\n",
    "    elif i<52:\n",
    "        cx = 9*r/2 + 3*sp\n",
    "        cy = -(i-48)*d + d/2\n",
    "    elif i<55:\n",
    "        cx = 6*r + 4*sp\n",
    "        cy = -(i-53)*d\n",
    "        \n",
    "    else:\n",
    "        break\n",
    "    \n",
    "    new_line = 'POL {:.2f} {:.2f} 551.37 6 0'.format(cx,cy)\n",
    "    \n",
    "    with open(str(uda_path/uda_fname), 'w') as f:\n",
    "        f.write(new_line)\n",
    "\n",
    "    with open(str(uda_path/uda_fname), 'r') as f:\n",
    "        lines = f.readlines()\n",
    "    \n",
    "    print(uda_fname, lines)"
   ]
  }
 ],
 "metadata": {
  "kernelspec": {
   "display_name": "Python 3 (ipykernel)",
   "language": "python",
   "name": "python3"
  },
  "language_info": {
   "codemirror_mode": {
    "name": "ipython",
    "version": 3
   },
   "file_extension": ".py",
   "mimetype": "text/x-python",
   "name": "python",
   "nbconvert_exporter": "python",
   "pygments_lexer": "ipython3",
   "version": "3.9.6"
  }
 },
 "nbformat": 4,
 "nbformat_minor": 5
}
